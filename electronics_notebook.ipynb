{
 "cells": [
  {
   "cell_type": "markdown",
   "id": "0bdd4dff",
   "metadata": {},
   "source": [
    "### Summarizing the Data"
   ]
  },
  {
   "cell_type": "code",
   "execution_count": 1,
   "id": "f71990b0",
   "metadata": {},
   "outputs": [
    {
     "data": {
      "text/html": [
       "<div>\n",
       "<style scoped>\n",
       "    .dataframe tbody tr th:only-of-type {\n",
       "        vertical-align: middle;\n",
       "    }\n",
       "\n",
       "    .dataframe tbody tr th {\n",
       "        vertical-align: top;\n",
       "    }\n",
       "\n",
       "    .dataframe thead th {\n",
       "        text-align: right;\n",
       "    }\n",
       "</style>\n",
       "<table border=\"1\" class=\"dataframe\">\n",
       "  <thead>\n",
       "    <tr style=\"text-align: right;\">\n",
       "      <th></th>\n",
       "      <th>event_time</th>\n",
       "      <th>order_id</th>\n",
       "      <th>product_id</th>\n",
       "      <th>category_id</th>\n",
       "      <th>category_code</th>\n",
       "      <th>brand</th>\n",
       "      <th>price</th>\n",
       "      <th>user_id</th>\n",
       "    </tr>\n",
       "  </thead>\n",
       "  <tbody>\n",
       "    <tr>\n",
       "      <th>0</th>\n",
       "      <td>2020-04-24 11:50:39 UTC</td>\n",
       "      <td>2294359932054536986</td>\n",
       "      <td>1515966223509089906</td>\n",
       "      <td>2.268105e+18</td>\n",
       "      <td>electronics.tablet</td>\n",
       "      <td>samsung</td>\n",
       "      <td>162.01</td>\n",
       "      <td>1.515916e+18</td>\n",
       "    </tr>\n",
       "    <tr>\n",
       "      <th>1</th>\n",
       "      <td>2020-04-24 11:50:39 UTC</td>\n",
       "      <td>2294359932054536986</td>\n",
       "      <td>1515966223509089906</td>\n",
       "      <td>2.268105e+18</td>\n",
       "      <td>electronics.tablet</td>\n",
       "      <td>samsung</td>\n",
       "      <td>162.01</td>\n",
       "      <td>1.515916e+18</td>\n",
       "    </tr>\n",
       "    <tr>\n",
       "      <th>2</th>\n",
       "      <td>2020-04-24 14:37:43 UTC</td>\n",
       "      <td>2294444024058086220</td>\n",
       "      <td>2273948319057183658</td>\n",
       "      <td>2.268105e+18</td>\n",
       "      <td>electronics.audio.headphone</td>\n",
       "      <td>huawei</td>\n",
       "      <td>77.52</td>\n",
       "      <td>1.515916e+18</td>\n",
       "    </tr>\n",
       "    <tr>\n",
       "      <th>3</th>\n",
       "      <td>2020-04-24 14:37:43 UTC</td>\n",
       "      <td>2294444024058086220</td>\n",
       "      <td>2273948319057183658</td>\n",
       "      <td>2.268105e+18</td>\n",
       "      <td>electronics.audio.headphone</td>\n",
       "      <td>huawei</td>\n",
       "      <td>77.52</td>\n",
       "      <td>1.515916e+18</td>\n",
       "    </tr>\n",
       "    <tr>\n",
       "      <th>4</th>\n",
       "      <td>2020-04-24 19:16:21 UTC</td>\n",
       "      <td>2294584263154074236</td>\n",
       "      <td>2273948316817424439</td>\n",
       "      <td>2.268105e+18</td>\n",
       "      <td>NaN</td>\n",
       "      <td>karcher</td>\n",
       "      <td>217.57</td>\n",
       "      <td>1.515916e+18</td>\n",
       "    </tr>\n",
       "  </tbody>\n",
       "</table>\n",
       "</div>"
      ],
      "text/plain": [
       "                event_time             order_id           product_id  \\\n",
       "0  2020-04-24 11:50:39 UTC  2294359932054536986  1515966223509089906   \n",
       "1  2020-04-24 11:50:39 UTC  2294359932054536986  1515966223509089906   \n",
       "2  2020-04-24 14:37:43 UTC  2294444024058086220  2273948319057183658   \n",
       "3  2020-04-24 14:37:43 UTC  2294444024058086220  2273948319057183658   \n",
       "4  2020-04-24 19:16:21 UTC  2294584263154074236  2273948316817424439   \n",
       "\n",
       "    category_id                category_code    brand   price       user_id  \n",
       "0  2.268105e+18           electronics.tablet  samsung  162.01  1.515916e+18  \n",
       "1  2.268105e+18           electronics.tablet  samsung  162.01  1.515916e+18  \n",
       "2  2.268105e+18  electronics.audio.headphone   huawei   77.52  1.515916e+18  \n",
       "3  2.268105e+18  electronics.audio.headphone   huawei   77.52  1.515916e+18  \n",
       "4  2.268105e+18                          NaN  karcher  217.57  1.515916e+18  "
      ]
     },
     "execution_count": 1,
     "metadata": {},
     "output_type": "execute_result"
    }
   ],
   "source": [
    "import pandas as pd\n",
    "import numpy as np\n",
    "import datetime\n",
    "\n",
    "sales = pd.read_csv('kz.csv')\n",
    "sales.head()"
   ]
  },
  {
   "cell_type": "code",
   "execution_count": 2,
   "id": "8c37b707",
   "metadata": {
    "scrolled": true
   },
   "outputs": [
    {
     "name": "stdout",
     "output_type": "stream",
     "text": [
      "event_time\n",
      "order_id\n",
      "product_id\n",
      "category_id\n",
      "category_code\n",
      "brand\n",
      "price\n",
      "user_id\n"
     ]
    }
   ],
   "source": [
    "for col_name in sales.columns:\n",
    "    print(col_name)"
   ]
  },
  {
   "cell_type": "code",
   "execution_count": 3,
   "id": "ddadfe7a",
   "metadata": {
    "scrolled": false
   },
   "outputs": [
    {
     "name": "stdout",
     "output_type": "stream",
     "text": [
      "There are 1435266 unique order IDs.\n",
      "There are 2633521 total orders.\n",
      "There are 98263 unique user IDs.\n"
     ]
    }
   ],
   "source": [
    "unique_orders = len(pd.unique(sales['order_id']))\n",
    "total_orders = len(sales.order_id)\n",
    "unique_users = len(pd.unique(sales['user_id']))\n",
    "\n",
    "print(\"There are \" + str(unique_orders) + \" unique order IDs.\")\n",
    "print(\"There are \" + str(total_orders) + \" total orders.\")\n",
    "print(\"There are \" + str(unique_users) + \" unique user IDs.\")"
   ]
  },
  {
   "cell_type": "markdown",
   "id": "a1f8d08b",
   "metadata": {},
   "source": [
    "### Data Cleanup"
   ]
  },
  {
   "cell_type": "code",
   "execution_count": 4,
   "id": "fccadff2",
   "metadata": {
    "scrolled": true
   },
   "outputs": [
    {
     "data": {
      "text/html": [
       "<div>\n",
       "<style scoped>\n",
       "    .dataframe tbody tr th:only-of-type {\n",
       "        vertical-align: middle;\n",
       "    }\n",
       "\n",
       "    .dataframe tbody tr th {\n",
       "        vertical-align: top;\n",
       "    }\n",
       "\n",
       "    .dataframe thead th {\n",
       "        text-align: right;\n",
       "    }\n",
       "</style>\n",
       "<table border=\"1\" class=\"dataframe\">\n",
       "  <thead>\n",
       "    <tr style=\"text-align: right;\">\n",
       "      <th></th>\n",
       "      <th>event_datetime</th>\n",
       "      <th>event_date</th>\n",
       "      <th>event_time</th>\n",
       "      <th>order_id</th>\n",
       "      <th>product_id</th>\n",
       "      <th>category_id</th>\n",
       "      <th>category_code</th>\n",
       "      <th>brand</th>\n",
       "      <th>price</th>\n",
       "      <th>user_id</th>\n",
       "    </tr>\n",
       "  </thead>\n",
       "  <tbody>\n",
       "    <tr>\n",
       "      <th>0</th>\n",
       "      <td>2020-04-24 11:50:39 UTC</td>\n",
       "      <td>2020-04-24</td>\n",
       "      <td>11:50:39</td>\n",
       "      <td>2294359932054536986</td>\n",
       "      <td>1515966223509089906</td>\n",
       "      <td>2.268105e+18</td>\n",
       "      <td>electronics.tablet</td>\n",
       "      <td>samsung</td>\n",
       "      <td>162.01</td>\n",
       "      <td>1.515916e+18</td>\n",
       "    </tr>\n",
       "    <tr>\n",
       "      <th>1</th>\n",
       "      <td>2020-04-24 11:50:39 UTC</td>\n",
       "      <td>2020-04-24</td>\n",
       "      <td>11:50:39</td>\n",
       "      <td>2294359932054536986</td>\n",
       "      <td>1515966223509089906</td>\n",
       "      <td>2.268105e+18</td>\n",
       "      <td>electronics.tablet</td>\n",
       "      <td>samsung</td>\n",
       "      <td>162.01</td>\n",
       "      <td>1.515916e+18</td>\n",
       "    </tr>\n",
       "    <tr>\n",
       "      <th>2</th>\n",
       "      <td>2020-04-24 14:37:43 UTC</td>\n",
       "      <td>2020-04-24</td>\n",
       "      <td>14:37:43</td>\n",
       "      <td>2294444024058086220</td>\n",
       "      <td>2273948319057183658</td>\n",
       "      <td>2.268105e+18</td>\n",
       "      <td>electronics.audio.headphone</td>\n",
       "      <td>huawei</td>\n",
       "      <td>77.52</td>\n",
       "      <td>1.515916e+18</td>\n",
       "    </tr>\n",
       "    <tr>\n",
       "      <th>3</th>\n",
       "      <td>2020-04-24 14:37:43 UTC</td>\n",
       "      <td>2020-04-24</td>\n",
       "      <td>14:37:43</td>\n",
       "      <td>2294444024058086220</td>\n",
       "      <td>2273948319057183658</td>\n",
       "      <td>2.268105e+18</td>\n",
       "      <td>electronics.audio.headphone</td>\n",
       "      <td>huawei</td>\n",
       "      <td>77.52</td>\n",
       "      <td>1.515916e+18</td>\n",
       "    </tr>\n",
       "    <tr>\n",
       "      <th>5</th>\n",
       "      <td>2020-04-26 08:45:57 UTC</td>\n",
       "      <td>2020-04-26</td>\n",
       "      <td>08:45:57</td>\n",
       "      <td>2295716521449619559</td>\n",
       "      <td>1515966223509261697</td>\n",
       "      <td>2.268105e+18</td>\n",
       "      <td>furniture.kitchen.table</td>\n",
       "      <td>maestro</td>\n",
       "      <td>39.33</td>\n",
       "      <td>1.515916e+18</td>\n",
       "    </tr>\n",
       "  </tbody>\n",
       "</table>\n",
       "</div>"
      ],
      "text/plain": [
       "            event_datetime event_date event_time             order_id  \\\n",
       "0  2020-04-24 11:50:39 UTC 2020-04-24   11:50:39  2294359932054536986   \n",
       "1  2020-04-24 11:50:39 UTC 2020-04-24   11:50:39  2294359932054536986   \n",
       "2  2020-04-24 14:37:43 UTC 2020-04-24   14:37:43  2294444024058086220   \n",
       "3  2020-04-24 14:37:43 UTC 2020-04-24   14:37:43  2294444024058086220   \n",
       "5  2020-04-26 08:45:57 UTC 2020-04-26   08:45:57  2295716521449619559   \n",
       "\n",
       "            product_id   category_id                category_code    brand  \\\n",
       "0  1515966223509089906  2.268105e+18           electronics.tablet  samsung   \n",
       "1  1515966223509089906  2.268105e+18           electronics.tablet  samsung   \n",
       "2  2273948319057183658  2.268105e+18  electronics.audio.headphone   huawei   \n",
       "3  2273948319057183658  2.268105e+18  electronics.audio.headphone   huawei   \n",
       "5  1515966223509261697  2.268105e+18      furniture.kitchen.table  maestro   \n",
       "\n",
       "    price       user_id  \n",
       "0  162.01  1.515916e+18  \n",
       "1  162.01  1.515916e+18  \n",
       "2   77.52  1.515916e+18  \n",
       "3   77.52  1.515916e+18  \n",
       "5   39.33  1.515916e+18  "
      ]
     },
     "metadata": {},
     "output_type": "display_data"
    },
    {
     "data": {
      "text/html": [
       "<div>\n",
       "<style scoped>\n",
       "    .dataframe tbody tr th:only-of-type {\n",
       "        vertical-align: middle;\n",
       "    }\n",
       "\n",
       "    .dataframe tbody tr th {\n",
       "        vertical-align: top;\n",
       "    }\n",
       "\n",
       "    .dataframe thead th {\n",
       "        text-align: right;\n",
       "    }\n",
       "</style>\n",
       "<table border=\"1\" class=\"dataframe\">\n",
       "  <thead>\n",
       "    <tr style=\"text-align: right;\">\n",
       "      <th></th>\n",
       "      <th>event_datetime</th>\n",
       "      <th>event_date</th>\n",
       "      <th>event_time</th>\n",
       "      <th>order_id</th>\n",
       "      <th>product_id</th>\n",
       "      <th>category_id</th>\n",
       "      <th>category_code</th>\n",
       "      <th>brand</th>\n",
       "      <th>price</th>\n",
       "      <th>user_id</th>\n",
       "    </tr>\n",
       "  </thead>\n",
       "  <tbody>\n",
       "    <tr>\n",
       "      <th>2633515</th>\n",
       "      <td>2020-11-21 10:08:54 UTC</td>\n",
       "      <td>2020-11-21</td>\n",
       "      <td>10:08:54</td>\n",
       "      <td>2388440981134693941</td>\n",
       "      <td>1515966223509088622</td>\n",
       "      <td>2.374499e+18</td>\n",
       "      <td>electronics.video.tv</td>\n",
       "      <td>lg</td>\n",
       "      <td>370.35</td>\n",
       "      <td>1.515916e+18</td>\n",
       "    </tr>\n",
       "    <tr>\n",
       "      <th>2633516</th>\n",
       "      <td>2020-11-21 10:10:01 UTC</td>\n",
       "      <td>2020-11-21</td>\n",
       "      <td>10:10:01</td>\n",
       "      <td>2388440981134693942</td>\n",
       "      <td>1515966223526602848</td>\n",
       "      <td>2.268105e+18</td>\n",
       "      <td>electronics.smartphone</td>\n",
       "      <td>oppo</td>\n",
       "      <td>138.87</td>\n",
       "      <td>1.515916e+18</td>\n",
       "    </tr>\n",
       "    <tr>\n",
       "      <th>2633517</th>\n",
       "      <td>2020-11-21 10:10:13 UTC</td>\n",
       "      <td>2020-11-21</td>\n",
       "      <td>10:10:13</td>\n",
       "      <td>2388440981134693943</td>\n",
       "      <td>1515966223509089282</td>\n",
       "      <td>2.268105e+18</td>\n",
       "      <td>electronics.smartphone</td>\n",
       "      <td>apple</td>\n",
       "      <td>418.96</td>\n",
       "      <td>1.515916e+18</td>\n",
       "    </tr>\n",
       "    <tr>\n",
       "      <th>2633518</th>\n",
       "      <td>2020-11-21 10:10:30 UTC</td>\n",
       "      <td>2020-11-21</td>\n",
       "      <td>10:10:30</td>\n",
       "      <td>2388440981134693944</td>\n",
       "      <td>1515966223509089917</td>\n",
       "      <td>2.268105e+18</td>\n",
       "      <td>appliances.personal.scales</td>\n",
       "      <td>vitek</td>\n",
       "      <td>12.48</td>\n",
       "      <td>1.515916e+18</td>\n",
       "    </tr>\n",
       "    <tr>\n",
       "      <th>2633520</th>\n",
       "      <td>2020-11-21 10:10:30 UTC</td>\n",
       "      <td>2020-11-21</td>\n",
       "      <td>10:10:30</td>\n",
       "      <td>2388440981134693944</td>\n",
       "      <td>1515966223509127566</td>\n",
       "      <td>2.268105e+18</td>\n",
       "      <td>appliances.kitchen.blender</td>\n",
       "      <td>redmond</td>\n",
       "      <td>53.22</td>\n",
       "      <td>1.515916e+18</td>\n",
       "    </tr>\n",
       "  </tbody>\n",
       "</table>\n",
       "</div>"
      ],
      "text/plain": [
       "                  event_datetime event_date event_time             order_id  \\\n",
       "2633515  2020-11-21 10:08:54 UTC 2020-11-21   10:08:54  2388440981134693941   \n",
       "2633516  2020-11-21 10:10:01 UTC 2020-11-21   10:10:01  2388440981134693942   \n",
       "2633517  2020-11-21 10:10:13 UTC 2020-11-21   10:10:13  2388440981134693943   \n",
       "2633518  2020-11-21 10:10:30 UTC 2020-11-21   10:10:30  2388440981134693944   \n",
       "2633520  2020-11-21 10:10:30 UTC 2020-11-21   10:10:30  2388440981134693944   \n",
       "\n",
       "                  product_id   category_id               category_code  \\\n",
       "2633515  1515966223509088622  2.374499e+18        electronics.video.tv   \n",
       "2633516  1515966223526602848  2.268105e+18      electronics.smartphone   \n",
       "2633517  1515966223509089282  2.268105e+18      electronics.smartphone   \n",
       "2633518  1515966223509089917  2.268105e+18  appliances.personal.scales   \n",
       "2633520  1515966223509127566  2.268105e+18  appliances.kitchen.blender   \n",
       "\n",
       "           brand   price       user_id  \n",
       "2633515       lg  370.35  1.515916e+18  \n",
       "2633516     oppo  138.87  1.515916e+18  \n",
       "2633517    apple  418.96  1.515916e+18  \n",
       "2633518    vitek   12.48  1.515916e+18  \n",
       "2633520  redmond   53.22  1.515916e+18  "
      ]
     },
     "metadata": {},
     "output_type": "display_data"
    }
   ],
   "source": [
    "sales.dropna(inplace=True)\n",
    "sales.rename(columns={'event_time': 'event_datetime'}, inplace=True)\n",
    "\n",
    "event_date = pd.to_datetime(sales['event_datetime']).dt.date\n",
    "event_time = pd.to_datetime(sales['event_datetime']).dt.time\n",
    "\n",
    "sales.insert(1, 'event_date', event_date, allow_duplicates=True)\n",
    "sales.insert(2, 'event_time', event_time, allow_duplicates=True)\n",
    "\n",
    "sales['event_date'] = pd.to_datetime(sales['event_date'])\n",
    "#sales['event_time'] = pd.to_datetime(sales['event_time'])\n",
    "\n",
    "display(sales.head())\n",
    "display(sales.tail())"
   ]
  },
  {
   "cell_type": "code",
   "execution_count": 5,
   "id": "829ae06c",
   "metadata": {},
   "outputs": [
    {
     "name": "stdout",
     "output_type": "stream",
     "text": [
      "After cleaning the data, there are now 420718 total orders.\n",
      "This is a 84.02% decrease in dataset size.\n"
     ]
    }
   ],
   "source": [
    "cleaned_total_orders = len(sales.order_id)\n",
    "print(\"After cleaning the data, there are now \" + str(cleaned_total_orders) + \\\n",
    "      \" total orders.\")\n",
    "\n",
    "percent_decrease = 100 * (1 - (cleaned_total_orders/total_orders))\n",
    "percent_formatted = \"{0:.2f}\".format(percent_decrease)\n",
    "print(\"This is a \" + str(percent_formatted) + \"% decrease in dataset size.\")"
   ]
  },
  {
   "cell_type": "markdown",
   "id": "220c0d94",
   "metadata": {},
   "source": [
    "### Exploratory Data Analysis (EDA)"
   ]
  },
  {
   "cell_type": "code",
   "execution_count": 6,
   "id": "a1899d23",
   "metadata": {},
   "outputs": [],
   "source": [
    "import seaborn as sns\n",
    "from matplotlib import pyplot as plt\n",
    "%matplotlib inline"
   ]
  },
  {
   "cell_type": "code",
   "execution_count": 7,
   "id": "5c6f591f",
   "metadata": {
    "scrolled": false
   },
   "outputs": [
    {
     "data": {
      "text/plain": [
       "count    420718\n",
       "mean        254\n",
       "std         321\n",
       "min           0\n",
       "25%          39\n",
       "50%         139\n",
       "75%         347\n",
       "max       11574\n",
       "Name: price, dtype: object"
      ]
     },
     "execution_count": 7,
     "metadata": {},
     "output_type": "execute_result"
    }
   ],
   "source": [
    "sales['price'].describe().apply(\"{0:.0f}\".format)"
   ]
  },
  {
   "cell_type": "code",
   "execution_count": 8,
   "id": "c422447a",
   "metadata": {
    "scrolled": true
   },
   "outputs": [
    {
     "data": {
      "text/plain": [
       "0-75       152870\n",
       "201-500    112932\n",
       "76-200      91686\n",
       "501+        63230\n",
       "Name: price_bin, dtype: int64"
      ]
     },
     "execution_count": 8,
     "metadata": {},
     "output_type": "execute_result"
    }
   ],
   "source": [
    "bins = [0, 75, 200, 500, 12000]\n",
    "price_labels = ['0-75', '76-200', '201-500', '501+']\n",
    "sales['price_bin'] = pd.cut(sales['price'], bins=bins, labels=price_labels, \\\n",
    "                            include_lowest=True)\n",
    "sales.price_bin.value_counts()"
   ]
  },
  {
   "cell_type": "code",
   "execution_count": 9,
   "id": "a1fec084",
   "metadata": {},
   "outputs": [
    {
     "data": {
      "image/png": "[encoded data removed]",
      "text/plain": [
       "<Figure size 640x480 with 1 Axes>"
      ]
     },
     "metadata": {},
     "output_type": "display_data"
    }
   ],
   "source": [
    "bar_plot = sns.countplot(data=sales, x=sales['price_bin']);\n",
    "bar_plot.set(xlabel='Price Bins', ylabel='Count', title='Count of Sold Items within Price Range');"
   ]
  },
  {
   "cell_type": "markdown",
   "id": "c9cf76b7",
   "metadata": {},
   "source": [
    "From the plot above, we see that there are more items in the $0-75 bin than any other bin. \n",
    "\n",
    "Let's drill down a little more (focusing on the sales that are less than $2000):"
   ]
  },
  {
   "cell_type": "code",
   "execution_count": 10,
   "id": "ff0591a3",
   "metadata": {
    "scrolled": false
   },
   "outputs": [
    {
     "data": {
      "image/png": "[encoded data removed]",
      "text/plain": [
       "<Figure size 640x480 with 1 Axes>"
      ]
     },
     "metadata": {},
     "output_type": "display_data"
    }
   ],
   "source": [
    "fig, ax = plt.subplots()\n",
    "sales['price'] = sales[sales['price'] < 2000]['price']\n",
    "plt.hist(sales['price'], bins=20)\n",
    "\n",
    "# Labels\n",
    "ax.set(xlabel='Price Bins USD', ylabel='Count', title='Count of Sold Items within Price Range')\n",
    "\n",
    "# The vertial \"mean\" line\n",
    "ax.axvline(x=sales['price'].mean(), color='red', label='Mean', \\\n",
    "              linestyle='--', linewidth=2)\n",
    "\n",
    "# Legend\n",
    "plt.legend(bbox_to_anchor=(1, 1), loc='upper left')\n",
    "\n",
    "plt.show()"
   ]
  },
  {
   "cell_type": "markdown",
   "id": "376645a1",
   "metadata": {},
   "source": [
    "### Sales over Time"
   ]
  },
  {
   "cell_type": "code",
   "execution_count": 11,
   "id": "050eed4c",
   "metadata": {
    "scrolled": false
   },
   "outputs": [
    {
     "data": {
      "text/html": [
       "<div>\n",
       "<style scoped>\n",
       "    .dataframe tbody tr th:only-of-type {\n",
       "        vertical-align: middle;\n",
       "    }\n",
       "\n",
       "    .dataframe tbody tr th {\n",
       "        vertical-align: top;\n",
       "    }\n",
       "\n",
       "    .dataframe thead th {\n",
       "        text-align: right;\n",
       "    }\n",
       "</style>\n",
       "<table border=\"1\" class=\"dataframe\">\n",
       "  <thead>\n",
       "    <tr style=\"text-align: right;\">\n",
       "      <th></th>\n",
       "      <th>event_datetime</th>\n",
       "      <th>event_date</th>\n",
       "      <th>event_time</th>\n",
       "      <th>order_id</th>\n",
       "      <th>product_id</th>\n",
       "      <th>category_id</th>\n",
       "      <th>category_code</th>\n",
       "      <th>brand</th>\n",
       "      <th>price</th>\n",
       "      <th>user_id</th>\n",
       "      <th>price_bin</th>\n",
       "    </tr>\n",
       "  </thead>\n",
       "  <tbody>\n",
       "    <tr>\n",
       "      <th>55942</th>\n",
       "      <td>1970-01-01 00:33:40 UTC</td>\n",
       "      <td>1970-01-01</td>\n",
       "      <td>00:33:40</td>\n",
       "      <td>2348533155973038728</td>\n",
       "      <td>1515966223509259282</td>\n",
       "      <td>2.268105e+18</td>\n",
       "      <td>appliances.kitchen.washer</td>\n",
       "      <td>indesit</td>\n",
       "      <td>198.13</td>\n",
       "      <td>1.515916e+18</td>\n",
       "      <td>76-200</td>\n",
       "    </tr>\n",
       "    <tr>\n",
       "      <th>47269</th>\n",
       "      <td>1970-01-01 00:33:40 UTC</td>\n",
       "      <td>1970-01-01</td>\n",
       "      <td>00:33:40</td>\n",
       "      <td>2348532291308880575</td>\n",
       "      <td>1515966223509090066</td>\n",
       "      <td>2.268105e+18</td>\n",
       "      <td>electronics.video.tv</td>\n",
       "      <td>lg</td>\n",
       "      <td>532.38</td>\n",
       "      <td>1.515916e+18</td>\n",
       "      <td>501+</td>\n",
       "    </tr>\n",
       "    <tr>\n",
       "      <th>47264</th>\n",
       "      <td>1970-01-01 00:33:40 UTC</td>\n",
       "      <td>1970-01-01</td>\n",
       "      <td>00:33:40</td>\n",
       "      <td>2348532290545517242</td>\n",
       "      <td>2273948283321712726</td>\n",
       "      <td>2.268105e+18</td>\n",
       "      <td>furniture.living_room.cabinet</td>\n",
       "      <td>tvs</td>\n",
       "      <td>7.38</td>\n",
       "      <td>1.515916e+18</td>\n",
       "      <td>0-75</td>\n",
       "    </tr>\n",
       "    <tr>\n",
       "      <th>47263</th>\n",
       "      <td>1970-01-01 00:33:40 UTC</td>\n",
       "      <td>1970-01-01</td>\n",
       "      <td>00:33:40</td>\n",
       "      <td>2348532290545517242</td>\n",
       "      <td>1515966223509340712</td>\n",
       "      <td>2.268105e+18</td>\n",
       "      <td>furniture.kitchen.table</td>\n",
       "      <td>tvs</td>\n",
       "      <td>43.96</td>\n",
       "      <td>1.515916e+18</td>\n",
       "      <td>0-75</td>\n",
       "    </tr>\n",
       "    <tr>\n",
       "      <th>47256</th>\n",
       "      <td>1970-01-01 00:33:40 UTC</td>\n",
       "      <td>1970-01-01</td>\n",
       "      <td>00:33:40</td>\n",
       "      <td>2348532289807319735</td>\n",
       "      <td>1515966223509282208</td>\n",
       "      <td>2.268105e+18</td>\n",
       "      <td>computers.notebook</td>\n",
       "      <td>legrand</td>\n",
       "      <td>19.65</td>\n",
       "      <td>1.515916e+18</td>\n",
       "      <td>0-75</td>\n",
       "    </tr>\n",
       "  </tbody>\n",
       "</table>\n",
       "</div>"
      ],
      "text/plain": [
       "                event_datetime event_date event_time             order_id  \\\n",
       "55942  1970-01-01 00:33:40 UTC 1970-01-01   00:33:40  2348533155973038728   \n",
       "47269  1970-01-01 00:33:40 UTC 1970-01-01   00:33:40  2348532291308880575   \n",
       "47264  1970-01-01 00:33:40 UTC 1970-01-01   00:33:40  2348532290545517242   \n",
       "47263  1970-01-01 00:33:40 UTC 1970-01-01   00:33:40  2348532290545517242   \n",
       "47256  1970-01-01 00:33:40 UTC 1970-01-01   00:33:40  2348532289807319735   \n",
       "\n",
       "                product_id   category_id                  category_code  \\\n",
       "55942  1515966223509259282  2.268105e+18      appliances.kitchen.washer   \n",
       "47269  1515966223509090066  2.268105e+18           electronics.video.tv   \n",
       "47264  2273948283321712726  2.268105e+18  furniture.living_room.cabinet   \n",
       "47263  1515966223509340712  2.268105e+18        furniture.kitchen.table   \n",
       "47256  1515966223509282208  2.268105e+18             computers.notebook   \n",
       "\n",
       "         brand   price       user_id price_bin  \n",
       "55942  indesit  198.13  1.515916e+18    76-200  \n",
       "47269       lg  532.38  1.515916e+18      501+  \n",
       "47264      tvs    7.38  1.515916e+18      0-75  \n",
       "47263      tvs   43.96  1.515916e+18      0-75  \n",
       "47256  legrand   19.65  1.515916e+18      0-75  "
      ]
     },
     "metadata": {},
     "output_type": "display_data"
    },
    {
     "data": {
      "text/html": [
       "<div>\n",
       "<style scoped>\n",
       "    .dataframe tbody tr th:only-of-type {\n",
       "        vertical-align: middle;\n",
       "    }\n",
       "\n",
       "    .dataframe tbody tr th {\n",
       "        vertical-align: top;\n",
       "    }\n",
       "\n",
       "    .dataframe thead th {\n",
       "        text-align: right;\n",
       "    }\n",
       "</style>\n",
       "<table border=\"1\" class=\"dataframe\">\n",
       "  <thead>\n",
       "    <tr style=\"text-align: right;\">\n",
       "      <th></th>\n",
       "      <th>event_datetime</th>\n",
       "      <th>event_date</th>\n",
       "      <th>event_time</th>\n",
       "      <th>order_id</th>\n",
       "      <th>product_id</th>\n",
       "      <th>category_id</th>\n",
       "      <th>category_code</th>\n",
       "      <th>brand</th>\n",
       "      <th>price</th>\n",
       "      <th>user_id</th>\n",
       "      <th>price_bin</th>\n",
       "    </tr>\n",
       "  </thead>\n",
       "  <tbody>\n",
       "    <tr>\n",
       "      <th>2633338</th>\n",
       "      <td>2020-11-21 06:25:29 UTC</td>\n",
       "      <td>2020-11-21</td>\n",
       "      <td>06:25:29</td>\n",
       "      <td>2388440981134693789</td>\n",
       "      <td>2273948245564589041</td>\n",
       "      <td>2.268105e+18</td>\n",
       "      <td>appliances.kitchen.kettle</td>\n",
       "      <td>tefal</td>\n",
       "      <td>40.49</td>\n",
       "      <td>1.515916e+18</td>\n",
       "      <td>0-75</td>\n",
       "    </tr>\n",
       "    <tr>\n",
       "      <th>2633339</th>\n",
       "      <td>2020-11-21 06:26:38 UTC</td>\n",
       "      <td>2020-11-21</td>\n",
       "      <td>06:26:38</td>\n",
       "      <td>2388440981134693790</td>\n",
       "      <td>2273948222697243328</td>\n",
       "      <td>2.268105e+18</td>\n",
       "      <td>appliances.kitchen.microwave</td>\n",
       "      <td>ava</td>\n",
       "      <td>67.11</td>\n",
       "      <td>1.515916e+18</td>\n",
       "      <td>0-75</td>\n",
       "    </tr>\n",
       "    <tr>\n",
       "      <th>2633340</th>\n",
       "      <td>2020-11-21 06:26:57 UTC</td>\n",
       "      <td>2020-11-21</td>\n",
       "      <td>06:26:57</td>\n",
       "      <td>2388440981134693791</td>\n",
       "      <td>2388434452476154284</td>\n",
       "      <td>2.268105e+18</td>\n",
       "      <td>electronics.smartphone</td>\n",
       "      <td>xiaomi</td>\n",
       "      <td>162.01</td>\n",
       "      <td>1.515916e+18</td>\n",
       "      <td>76-200</td>\n",
       "    </tr>\n",
       "    <tr>\n",
       "      <th>2633322</th>\n",
       "      <td>2020-11-21 06:06:21 UTC</td>\n",
       "      <td>2020-11-21</td>\n",
       "      <td>06:06:21</td>\n",
       "      <td>2388440981134693775</td>\n",
       "      <td>2388434452473940468</td>\n",
       "      <td>2.268105e+18</td>\n",
       "      <td>electronics.smartphone</td>\n",
       "      <td>xiaomi</td>\n",
       "      <td>127.29</td>\n",
       "      <td>1.515916e+18</td>\n",
       "      <td>76-200</td>\n",
       "    </tr>\n",
       "    <tr>\n",
       "      <th>2633520</th>\n",
       "      <td>2020-11-21 10:10:30 UTC</td>\n",
       "      <td>2020-11-21</td>\n",
       "      <td>10:10:30</td>\n",
       "      <td>2388440981134693944</td>\n",
       "      <td>1515966223509127566</td>\n",
       "      <td>2.268105e+18</td>\n",
       "      <td>appliances.kitchen.blender</td>\n",
       "      <td>redmond</td>\n",
       "      <td>53.22</td>\n",
       "      <td>1.515916e+18</td>\n",
       "      <td>0-75</td>\n",
       "    </tr>\n",
       "  </tbody>\n",
       "</table>\n",
       "</div>"
      ],
      "text/plain": [
       "                  event_datetime event_date event_time             order_id  \\\n",
       "2633338  2020-11-21 06:25:29 UTC 2020-11-21   06:25:29  2388440981134693789   \n",
       "2633339  2020-11-21 06:26:38 UTC 2020-11-21   06:26:38  2388440981134693790   \n",
       "2633340  2020-11-21 06:26:57 UTC 2020-11-21   06:26:57  2388440981134693791   \n",
       "2633322  2020-11-21 06:06:21 UTC 2020-11-21   06:06:21  2388440981134693775   \n",
       "2633520  2020-11-21 10:10:30 UTC 2020-11-21   10:10:30  2388440981134693944   \n",
       "\n",
       "                  product_id   category_id                 category_code  \\\n",
       "2633338  2273948245564589041  2.268105e+18     appliances.kitchen.kettle   \n",
       "2633339  2273948222697243328  2.268105e+18  appliances.kitchen.microwave   \n",
       "2633340  2388434452476154284  2.268105e+18        electronics.smartphone   \n",
       "2633322  2388434452473940468  2.268105e+18        electronics.smartphone   \n",
       "2633520  1515966223509127566  2.268105e+18    appliances.kitchen.blender   \n",
       "\n",
       "           brand   price       user_id price_bin  \n",
       "2633338    tefal   40.49  1.515916e+18      0-75  \n",
       "2633339      ava   67.11  1.515916e+18      0-75  \n",
       "2633340   xiaomi  162.01  1.515916e+18    76-200  \n",
       "2633322   xiaomi  127.29  1.515916e+18    76-200  \n",
       "2633520  redmond   53.22  1.515916e+18      0-75  "
      ]
     },
     "metadata": {},
     "output_type": "display_data"
    }
   ],
   "source": [
    "sales.sort_values(by = ['event_date'], ascending=True, inplace=True)\n",
    "display(sales.head())\n",
    "display(sales.tail())"
   ]
  },
  {
   "cell_type": "markdown",
   "id": "5668bfbb",
   "metadata": {},
   "source": [
    "Looks like there are some sales that have a date in the year 1970. We'll remove those from the data set and just focus on sales that we are certain have occured in the year 2020. "
   ]
  },
  {
   "cell_type": "code",
   "execution_count": 12,
   "id": "dd30a802",
   "metadata": {
    "scrolled": true
   },
   "outputs": [
    {
     "data": {
      "text/html": [
       "<div>\n",
       "<style scoped>\n",
       "    .dataframe tbody tr th:only-of-type {\n",
       "        vertical-align: middle;\n",
       "    }\n",
       "\n",
       "    .dataframe tbody tr th {\n",
       "        vertical-align: top;\n",
       "    }\n",
       "\n",
       "    .dataframe thead th {\n",
       "        text-align: right;\n",
       "    }\n",
       "</style>\n",
       "<table border=\"1\" class=\"dataframe\">\n",
       "  <thead>\n",
       "    <tr style=\"text-align: right;\">\n",
       "      <th></th>\n",
       "      <th>event_datetime</th>\n",
       "      <th>event_date</th>\n",
       "      <th>event_time</th>\n",
       "      <th>order_id</th>\n",
       "      <th>product_id</th>\n",
       "      <th>category_id</th>\n",
       "      <th>category_code</th>\n",
       "      <th>brand</th>\n",
       "      <th>price</th>\n",
       "      <th>user_id</th>\n",
       "      <th>price_bin</th>\n",
       "    </tr>\n",
       "  </thead>\n",
       "  <tbody>\n",
       "    <tr>\n",
       "      <th>66111</th>\n",
       "      <td>2020-01-05 04:56:31 UTC</td>\n",
       "      <td>2020-01-05</td>\n",
       "      <td>04:56:31</td>\n",
       "      <td>2348710122416505096</td>\n",
       "      <td>1515966223509089264</td>\n",
       "      <td>2.268105e+18</td>\n",
       "      <td>appliances.kitchen.refrigerators</td>\n",
       "      <td>beko</td>\n",
       "      <td>219.88</td>\n",
       "      <td>1.515916e+18</td>\n",
       "      <td>201-500</td>\n",
       "    </tr>\n",
       "    <tr>\n",
       "      <th>66110</th>\n",
       "      <td>2020-01-05 04:56:31 UTC</td>\n",
       "      <td>2020-01-05</td>\n",
       "      <td>04:56:31</td>\n",
       "      <td>2348710122416505096</td>\n",
       "      <td>1515966223509089283</td>\n",
       "      <td>2.268105e+18</td>\n",
       "      <td>electronics.smartphone</td>\n",
       "      <td>oppo</td>\n",
       "      <td>208.31</td>\n",
       "      <td>1.515916e+18</td>\n",
       "      <td>201-500</td>\n",
       "    </tr>\n",
       "    <tr>\n",
       "      <th>66085</th>\n",
       "      <td>2020-01-05 06:54:35 UTC</td>\n",
       "      <td>2020-01-05</td>\n",
       "      <td>06:54:35</td>\n",
       "      <td>2348710119757316345</td>\n",
       "      <td>1515966223509104732</td>\n",
       "      <td>2.268105e+18</td>\n",
       "      <td>electronics.audio.headphone</td>\n",
       "      <td>hyperx</td>\n",
       "      <td>136.55</td>\n",
       "      <td>1.515916e+18</td>\n",
       "      <td>76-200</td>\n",
       "    </tr>\n",
       "    <tr>\n",
       "      <th>65985</th>\n",
       "      <td>2020-01-05 09:32:42 UTC</td>\n",
       "      <td>2020-01-05</td>\n",
       "      <td>09:32:42</td>\n",
       "      <td>2348710110286577864</td>\n",
       "      <td>1515966223509255546</td>\n",
       "      <td>2.268105e+18</td>\n",
       "      <td>computers.network.router</td>\n",
       "      <td>d-link</td>\n",
       "      <td>11.55</td>\n",
       "      <td>1.515916e+18</td>\n",
       "      <td>0-75</td>\n",
       "    </tr>\n",
       "    <tr>\n",
       "      <th>65735</th>\n",
       "      <td>2020-01-05 08:29:56 UTC</td>\n",
       "      <td>2020-01-05</td>\n",
       "      <td>08:29:56</td>\n",
       "      <td>2348710080616071249</td>\n",
       "      <td>2273948310173647243</td>\n",
       "      <td>2.268105e+18</td>\n",
       "      <td>appliances.environment.vacuum</td>\n",
       "      <td>xiaomi</td>\n",
       "      <td>439.79</td>\n",
       "      <td>1.515916e+18</td>\n",
       "      <td>201-500</td>\n",
       "    </tr>\n",
       "  </tbody>\n",
       "</table>\n",
       "</div>"
      ],
      "text/plain": [
       "                event_datetime event_date event_time             order_id  \\\n",
       "66111  2020-01-05 04:56:31 UTC 2020-01-05   04:56:31  2348710122416505096   \n",
       "66110  2020-01-05 04:56:31 UTC 2020-01-05   04:56:31  2348710122416505096   \n",
       "66085  2020-01-05 06:54:35 UTC 2020-01-05   06:54:35  2348710119757316345   \n",
       "65985  2020-01-05 09:32:42 UTC 2020-01-05   09:32:42  2348710110286577864   \n",
       "65735  2020-01-05 08:29:56 UTC 2020-01-05   08:29:56  2348710080616071249   \n",
       "\n",
       "                product_id   category_id                     category_code  \\\n",
       "66111  1515966223509089264  2.268105e+18  appliances.kitchen.refrigerators   \n",
       "66110  1515966223509089283  2.268105e+18            electronics.smartphone   \n",
       "66085  1515966223509104732  2.268105e+18       electronics.audio.headphone   \n",
       "65985  1515966223509255546  2.268105e+18          computers.network.router   \n",
       "65735  2273948310173647243  2.268105e+18     appliances.environment.vacuum   \n",
       "\n",
       "        brand   price       user_id price_bin  \n",
       "66111    beko  219.88  1.515916e+18   201-500  \n",
       "66110    oppo  208.31  1.515916e+18   201-500  \n",
       "66085  hyperx  136.55  1.515916e+18    76-200  \n",
       "65985  d-link   11.55  1.515916e+18      0-75  \n",
       "65735  xiaomi  439.79  1.515916e+18   201-500  "
      ]
     },
     "execution_count": 12,
     "metadata": {},
     "output_type": "execute_result"
    }
   ],
   "source": [
    "_2020_df = sales[sales['event_date'] >= '2020/01/01']\n",
    "_2020_df.head()"
   ]
  },
  {
   "cell_type": "code",
   "execution_count": 13,
   "id": "e364ef99",
   "metadata": {
    "scrolled": true
   },
   "outputs": [],
   "source": [
    "# Error handling\n",
    "pd.options.mode.chained_assignment = None\n",
    "\n",
    "_2020_df['month'] = _2020_df['event_date'].dt.month\n",
    "\n",
    "import calendar\n",
    "_2020_df['month'] = _2020_df['month'].apply(lambda x: calendar.month_abbr[x])"
   ]
  },
  {
   "cell_type": "code",
   "execution_count": 14,
   "id": "7b4a1aeb",
   "metadata": {},
   "outputs": [],
   "source": [
    "grouped_by_month_df = _2020_df.groupby('month')['price'].sum()\n",
    "\n",
    "months_in_order = ['Jan','Feb','Mar', 'Apr', 'May', 'Jun', \\\n",
    "                   'Jul', 'Aug', 'Sep', 'Oct', 'Nov']\n",
    "\n",
    "df_sorted = grouped_by_month_df.reindex(months_in_order, axis=0)"
   ]
  },
  {
   "cell_type": "code",
   "execution_count": 15,
   "id": "de2992ae",
   "metadata": {},
   "outputs": [
    {
     "data": {
      "image/png": "[encoded data removed]",
      "text/plain": [
       "<Figure size 640x480 with 1 Axes>"
      ]
     },
     "metadata": {},
     "output_type": "display_data"
    }
   ],
   "source": [
    "f = plt.figure()\n",
    "plt.ticklabel_format(style = 'plain')\n",
    "plt.xlabel('Months')\n",
    "plt.ylabel('Total Sales per Month [$]')\n",
    "plt.title('Sales [$] per Month')\n",
    "df_sorted.plot(kind='bar', ax=f.gca());\n",
    "plt.show();"
   ]
  },
  {
   "cell_type": "markdown",
   "id": "d0f2a520",
   "metadata": {},
   "source": [
    "### Total Revenue by Category ID"
   ]
  },
  {
   "cell_type": "code",
   "execution_count": 16,
   "id": "397a1279",
   "metadata": {
    "scrolled": false
   },
   "outputs": [
    {
     "name": "stdout",
     "output_type": "stream",
     "text": [
      "                        category_code        price\n",
      "88             electronics.smartphone  41082041.24\n",
      "58                 computers.notebook  13633420.52\n",
      "30   appliances.kitchen.refrigerators   8534872.45\n",
      "92               electronics.video.tv   8056003.00\n",
      "33          appliances.kitchen.washer   4890769.45\n",
      "..                                ...          ...\n",
      "70           construction.tools.light       238.40\n",
      "108                 kids.fmcg.diapers       203.92\n",
      "114                      sport.diving       109.60\n",
      "2                     apparel.costume        42.77\n",
      "77              country_yard.watering        28.82\n",
      "\n",
      "[123 rows x 2 columns]\n"
     ]
    }
   ],
   "source": [
    "grouped_by_cat_df = _2020_df.groupby('category_code')['price'].sum().reset_index()\n",
    "grouped_by_cat_df = grouped_by_cat_df.sort_values(by=['price'], ascending=False)\n",
    "print(grouped_by_cat_df)"
   ]
  },
  {
   "cell_type": "code",
   "execution_count": 17,
   "id": "b754ad47",
   "metadata": {},
   "outputs": [
    {
     "name": "stdout",
     "output_type": "stream",
     "text": [
      "                             category_code        price\n",
      "88                  electronics.smartphone  41082041.24\n",
      "58                      computers.notebook  13633420.52\n",
      "30        appliances.kitchen.refrigerators   8534872.45\n",
      "92                    electronics.video.tv   8056003.00\n",
      "33               appliances.kitchen.washer   4890769.45\n",
      "13           appliances.environment.vacuum   2427181.44\n",
      "89                      electronics.tablet   2327821.95\n",
      "87                      electronics.clocks   2158959.17\n",
      "9   appliances.environment.air_conditioner   1826364.85\n",
      "23                 appliances.kitchen.hood   1796722.62\n"
     ]
    }
   ],
   "source": [
    "top_10_categories = grouped_by_cat_df.head(10)\n",
    "print(top_10_categories)"
   ]
  },
  {
   "cell_type": "code",
   "execution_count": 18,
   "id": "bd47e291",
   "metadata": {},
   "outputs": [
    {
     "data": {
      "image/png": "[encoded data removed]",
      "text/plain": [
       "<Figure size 640x480 with 1 Axes>"
      ]
     },
     "metadata": {},
     "output_type": "display_data"
    }
   ],
   "source": [
    "f = plt.figure()\n",
    "plt.ticklabel_format(style = 'plain')\n",
    "plt.xlabel('Total Sales [$] per Category')\n",
    "plt.ylabel('Categories')\n",
    "plt.title('Sales [$] per Category')\n",
    "\n",
    "x = top_10_categories['category_code']\n",
    "y = top_10_categories['price']\n",
    "\n",
    "plt.barh(x, y)\n",
    "plt.xticks(rotation=90)\n",
    "\n",
    "plt.show();"
   ]
  },
  {
   "cell_type": "markdown",
   "id": "8a9e6cd4",
   "metadata": {},
   "source": [
    "### ML Time Series Analysis"
   ]
  },
  {
   "cell_type": "code",
   "execution_count": 19,
   "id": "c66b2fc0",
   "metadata": {
    "scrolled": false
   },
   "outputs": [
    {
     "name": "stdout",
     "output_type": "stream",
     "text": [
      "   month        price\n",
      "0      1   1477717.22\n",
      "1      2   1904862.27\n",
      "2      3   2484871.42\n",
      "3      4   1519819.06\n",
      "4      5   7075953.64\n",
      "5      6   6659274.78\n",
      "6      7  14801201.30\n",
      "7      8  25413702.85\n",
      "8      9  15252582.55\n",
      "   month        price\n",
      "0     10  17188554.93\n",
      "1     11  10507209.29\n"
     ]
    }
   ],
   "source": [
    "from statsmodels.tsa.statespace.sarimax import SARIMAX\n",
    "\n",
    "_2020_df['month'] = _2020_df['event_date'].dt.month\n",
    "\n",
    "train_filtered_df = _2020_df.loc[_2020_df['month'] <= 9]\n",
    "test_filtered_df = _2020_df.loc[_2020_df['month'] > 9]\n",
    "\n",
    "train_grouped = train_filtered_df.groupby('month')\n",
    "test_grouped = test_filtered_df.groupby('month')\n",
    "\n",
    "train_df_agg = train_grouped.agg({'price': 'sum'}).reset_index()\n",
    "test_df_agg = test_grouped.agg({'price': 'sum'}).reset_index()\n",
    "\n",
    "print(train_df_agg)\n",
    "print(test_df_agg)"
   ]
  },
  {
   "cell_type": "code",
   "execution_count": 20,
   "id": "5bdb76cd",
   "metadata": {
    "scrolled": false
   },
   "outputs": [
    {
     "data": {
      "image/png": "[encoded data removed]",
      "text/plain": [
       "<Figure size 640x480 with 1 Axes>"
      ]
     },
     "metadata": {},
     "output_type": "display_data"
    }
   ],
   "source": [
    "plt.bar(train_df_agg['month'], train_df_agg['price'],color = \"blue\")\n",
    "plt.bar(test_df_agg['month'], test_df_agg['price'], color = \"red\")\n",
    "plt.show()"
   ]
  },
  {
   "cell_type": "markdown",
   "id": "cec038cd",
   "metadata": {},
   "source": [
    "Autoregressive Moving Average (ARMA)"
   ]
  },
  {
   "cell_type": "code",
   "execution_count": 21,
   "id": "a75df375",
   "metadata": {},
   "outputs": [
    {
     "name": "stdout",
     "output_type": "stream",
     "text": [
      "56494009.0\n",
      "8352045.0\n"
     ]
    },
    {
     "name": "stderr",
     "output_type": "stream",
     "text": [
      "C:\\Users\\bharding\\AppData\\Local\\Programs\\Python\\Python310\\lib\\site-packages\\statsmodels\\tsa\\statespace\\sarimax.py:966: UserWarning: Non-stationary starting autoregressive parameters found. Using zeros as starting parameters.\n",
      "  warn('Non-stationary starting autoregressive parameters'\n",
      "C:\\Users\\bharding\\AppData\\Local\\Programs\\Python\\Python310\\lib\\site-packages\\statsmodels\\tsa\\statespace\\sarimax.py:866: UserWarning: Too few observations to estimate starting parameters for seasonal ARMA. All parameters except for variances will be set to zeros.\n",
      "  warn('Too few observations to estimate starting parameters%s.'\n"
     ]
    }
   ],
   "source": [
    "model = SARIMAX(train_df_agg['price'], order=(1, 1, 1), seasonal_order=(1, 1, 1, 2))\n",
    "results = model.fit()\n",
    "forecast = results.forecast(steps=2)\n",
    "\n",
    "x = forecast.tolist()\n",
    "\n",
    "for item in x:\n",
    "    item = float(\"{:.0f}\".format(float(item)))\n",
    "    print(item)"
   ]
  },
  {
   "cell_type": "markdown",
   "id": "8b7f74cf",
   "metadata": {},
   "source": [
    "### Conclusion & Recommendations for Further Research"
   ]
  },
  {
   "cell_type": "markdown",
   "id": "4ebb637d",
   "metadata": {},
   "source": [
    "- Margins on each sale\n",
    "- What changed on within the business (additional marketing, new B2B business, etc.) that caused the jump in sales in May.\n"
   ]
  },
  {
   "cell_type": "code",
   "execution_count": null,
   "id": "909813fa",
   "metadata": {},
   "outputs": [],
   "source": []
  }
 ],
 "metadata": {
  "kernelspec": {
   "display_name": "Python 3 (ipykernel)",
   "language": "python",
   "name": "python3"
  },
  "language_info": {
   "codemirror_mode": {
    "name": "ipython",
    "version": 3
   },
   "file_extension": ".py",
   "mimetype": "text/x-python",
   "name": "python",
   "nbconvert_exporter": "python",
   "pygments_lexer": "ipython3",
   "version": "3.10.5"
  }
 },
 "nbformat": 4,
 "nbformat_minor": 5
}
